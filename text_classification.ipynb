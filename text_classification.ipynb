{
 "cells": [
  {
   "cell_type": "code",
   "execution_count": 1,
   "metadata": {},
   "outputs": [
    {
     "name": "stdout",
     "output_type": "stream",
     "text": [
      "1.10.0\n"
     ]
    }
   ],
   "source": [
    "import tensorflow as tf\n",
    "from tensorflow import keras\n",
    "\n",
    "import numpy as np\n",
    "print(tf.__version__)"
   ]
  },
  {
   "cell_type": "code",
   "execution_count": 2,
   "metadata": {},
   "outputs": [],
   "source": [
    "imdb = keras.datasets.imdb\n",
    "(train_data, train_labels), (test_data, test_labels) = imdb.load_data(num_words=10000)"
   ]
  },
  {
   "cell_type": "code",
   "execution_count": 3,
   "metadata": {},
   "outputs": [
    {
     "name": "stdout",
     "output_type": "stream",
     "text": [
      "Training entries: 25000, label: 25000\n"
     ]
    }
   ],
   "source": [
    "print(\"Training entries: {}, label: {}\".format(len(train_data), len(train_labels)))"
   ]
  },
  {
   "cell_type": "code",
   "execution_count": 4,
   "metadata": {},
   "outputs": [
    {
     "name": "stdout",
     "output_type": "stream",
     "text": [
      "[1, 14, 22, 16, 43, 530, 973, 1622, 1385, 65, 458, 4468, 66, 3941, 4, 173, 36, 256, 5, 25, 100, 43, 838, 112, 50, 670, 2, 9, 35, 480, 284, 5, 150, 4, 172, 112, 167, 2, 336, 385, 39, 4, 172, 4536, 1111, 17, 546, 38, 13, 447, 4, 192, 50, 16, 6, 147, 2025, 19, 14, 22, 4, 1920, 4613, 469, 4, 22, 71, 87, 12, 16, 43, 530, 38, 76, 15, 13, 1247, 4, 22, 17, 515, 17, 12, 16, 626, 18, 2, 5, 62, 386, 12, 8, 316, 8, 106, 5, 4, 2223, 5244, 16, 480, 66, 3785, 33, 4, 130, 12, 16, 38, 619, 5, 25, 124, 51, 36, 135, 48, 25, 1415, 33, 6, 22, 12, 215, 28, 77, 52, 5, 14, 407, 16, 82, 2, 8, 4, 107, 117, 5952, 15, 256, 4, 2, 7, 3766, 5, 723, 36, 71, 43, 530, 476, 26, 400, 317, 46, 7, 4, 2, 1029, 13, 104, 88, 4, 381, 15, 297, 98, 32, 2071, 56, 26, 141, 6, 194, 7486, 18, 4, 226, 22, 21, 134, 476, 26, 480, 5, 144, 30, 5535, 18, 51, 36, 28, 224, 92, 25, 104, 4, 226, 65, 16, 38, 1334, 88, 12, 16, 283, 5, 16, 4472, 113, 103, 32, 15, 16, 5345, 19, 178, 32]\n"
     ]
    }
   ],
   "source": [
    "print(train_data[0])"
   ]
  },
  {
   "cell_type": "code",
   "execution_count": 5,
   "metadata": {},
   "outputs": [
    {
     "data": {
      "text/plain": [
       "(218, 189)"
      ]
     },
     "execution_count": 5,
     "metadata": {},
     "output_type": "execute_result"
    }
   ],
   "source": [
    "len(train_data[0]), len(train_data[1])"
   ]
  },
  {
   "cell_type": "code",
   "execution_count": 6,
   "metadata": {},
   "outputs": [],
   "source": [
    "# A dictionary mapping words to an integer index\n",
    "word_index = imdb.get_word_index()\n",
    "\n",
    "#The first indices are reserved\n",
    "word_index = {k: (v+3) for k,v in word_index.items()}\n",
    "word_index[\"<PAD>\"] = 0\n",
    "word_index[\"<START>\"] = 1\n",
    "word_index[\"<UNK>\"] = 2 #unknown\n",
    "word_index[\"<UNUSED>\"] = 3\n",
    "\n",
    "reverse_word_index = dict([(value, key) for (key, value) in word_index.items()])\n",
    "def decode_review(text):\n",
    "    return ' '.join([reverse_word_index.get(i, '?') for i in text])"
   ]
  },
  {
   "cell_type": "code",
   "execution_count": 7,
   "metadata": {},
   "outputs": [
    {
     "data": {
      "text/plain": [
       "\"<START> this film was just brilliant casting location scenery story direction everyone's really suited the part they played and you could just imagine being there robert <UNK> is an amazing actor and now the same being director <UNK> father came from the same scottish island as myself so i loved the fact there was a real connection with this film the witty remarks throughout the film were great it was just brilliant so much that i bought the film as soon as it was released for <UNK> and would recommend it to everyone to watch and the fly fishing was amazing really cried at the end it was so sad and you know what they say if you cry at a film it must have been good and this definitely was also <UNK> to the two little boy's that played the <UNK> of norman and paul they were just brilliant children are often left out of the <UNK> list i think because the stars that play them all grown up are such a big profile for the whole film but these children are amazing and should be praised for what they have done don't you think the whole story was so lovely because it was true and was someone's life after all that was shared with us all\""
      ]
     },
     "execution_count": 7,
     "metadata": {},
     "output_type": "execute_result"
    }
   ],
   "source": [
    "decode_review(train_data[0])"
   ]
  },
  {
   "cell_type": "code",
   "execution_count": 8,
   "metadata": {},
   "outputs": [],
   "source": [
    "train_data = keras.preprocessing.sequence.pad_sequences(train_data, \n",
    "                                                        value=word_index[\"<PAD>\"],\n",
    "                                                       padding='post',\n",
    "                                                       maxlen=256)\n",
    "test_data = keras.preprocessing.sequence.pad_sequences(test_data,\n",
    "                                                       value=word_index[\"<PAD>\"],\n",
    "                                                       padding='post',\n",
    "                                                       maxlen=256)"
   ]
  },
  {
   "cell_type": "code",
   "execution_count": 9,
   "metadata": {},
   "outputs": [
    {
     "data": {
      "text/plain": [
       "(256, 256)"
      ]
     },
     "execution_count": 9,
     "metadata": {},
     "output_type": "execute_result"
    }
   ],
   "source": [
    "len(train_data[0]), len(train_data[1])"
   ]
  },
  {
   "cell_type": "code",
   "execution_count": 10,
   "metadata": {},
   "outputs": [
    {
     "name": "stdout",
     "output_type": "stream",
     "text": [
      "[   1   14   22   16   43  530  973 1622 1385   65  458 4468   66 3941\n",
      "    4  173   36  256    5   25  100   43  838  112   50  670    2    9\n",
      "   35  480  284    5  150    4  172  112  167    2  336  385   39    4\n",
      "  172 4536 1111   17  546   38   13  447    4  192   50   16    6  147\n",
      " 2025   19   14   22    4 1920 4613  469    4   22   71   87   12   16\n",
      "   43  530   38   76   15   13 1247    4   22   17  515   17   12   16\n",
      "  626   18    2    5   62  386   12    8  316    8  106    5    4 2223\n",
      " 5244   16  480   66 3785   33    4  130   12   16   38  619    5   25\n",
      "  124   51   36  135   48   25 1415   33    6   22   12  215   28   77\n",
      "   52    5   14  407   16   82    2    8    4  107  117 5952   15  256\n",
      "    4    2    7 3766    5  723   36   71   43  530  476   26  400  317\n",
      "   46    7    4    2 1029   13  104   88    4  381   15  297   98   32\n",
      " 2071   56   26  141    6  194 7486   18    4  226   22   21  134  476\n",
      "   26  480    5  144   30 5535   18   51   36   28  224   92   25  104\n",
      "    4  226   65   16   38 1334   88   12   16  283    5   16 4472  113\n",
      "  103   32   15   16 5345   19  178   32    0    0    0    0    0    0\n",
      "    0    0    0    0    0    0    0    0    0    0    0    0    0    0\n",
      "    0    0    0    0    0    0    0    0    0    0    0    0    0    0\n",
      "    0    0    0    0]\n"
     ]
    }
   ],
   "source": [
    "print(train_data[0])"
   ]
  },
  {
   "cell_type": "code",
   "execution_count": 11,
   "metadata": {},
   "outputs": [
    {
     "name": "stdout",
     "output_type": "stream",
     "text": [
      "_________________________________________________________________\n",
      "Layer (type)                 Output Shape              Param #   \n",
      "=================================================================\n",
      "embedding (Embedding)        (None, None, 16)          160000    \n",
      "_________________________________________________________________\n",
      "global_average_pooling1d (Gl (None, 16)                0         \n",
      "_________________________________________________________________\n",
      "dense (Dense)                (None, 16)                272       \n",
      "_________________________________________________________________\n",
      "dense_1 (Dense)              (None, 1)                 17        \n",
      "=================================================================\n",
      "Total params: 160,289\n",
      "Trainable params: 160,289\n",
      "Non-trainable params: 0\n",
      "_________________________________________________________________\n"
     ]
    }
   ],
   "source": [
    "vocab_size = 10000\n",
    "\n",
    "model = keras.Sequential()\n",
    "model.add(keras.layers.Embedding(vocab_size, 16))\n",
    "model.add(keras.layers.GlobalAveragePooling1D())\n",
    "model.add(keras.layers.Dense(16, activation=tf.nn.relu))\n",
    "model.add(keras.layers.Dense(1, activation=tf.nn.sigmoid))\n",
    "\n",
    "model.summary()"
   ]
  },
  {
   "cell_type": "code",
   "execution_count": 12,
   "metadata": {},
   "outputs": [],
   "source": [
    "model.compile(optimizer=tf.train.AdamOptimizer(),\n",
    "              loss='binary_crossentropy',\n",
    "              metrics=['accuracy'])"
   ]
  },
  {
   "cell_type": "code",
   "execution_count": 13,
   "metadata": {},
   "outputs": [],
   "source": [
    "x_val = train_data[:10000]\n",
    "partial_x_train = train_data[10000:]\n",
    "y_val = train_labels[:10000]\n",
    "partial_y_train = train_labels[10000:]"
   ]
  },
  {
   "cell_type": "code",
   "execution_count": 14,
   "metadata": {},
   "outputs": [
    {
     "name": "stdout",
     "output_type": "stream",
     "text": [
      "Train on 15000 samples, validate on 10000 samples\n",
      "Epoch 1/40\n",
      "15000/15000 [==============================] - 2s 145us/step - loss: 0.7076 - acc: 0.4964 - val_loss: 0.6923 - val_acc: 0.5328\n",
      "Epoch 2/40\n",
      "15000/15000 [==============================] - 1s 53us/step - loss: 0.6914 - acc: 0.5245 - val_loss: 0.6904 - val_acc: 0.5619\n",
      "Epoch 3/40\n",
      "15000/15000 [==============================] - 1s 51us/step - loss: 0.6892 - acc: 0.5837 - val_loss: 0.6888 - val_acc: 0.5741\n",
      "Epoch 4/40\n",
      "15000/15000 [==============================] - 1s 52us/step - loss: 0.6868 - acc: 0.6449 - val_loss: 0.6864 - val_acc: 0.5740\n",
      "Epoch 5/40\n",
      "15000/15000 [==============================] - 1s 55us/step - loss: 0.6836 - acc: 0.6275 - val_loss: 0.6825 - val_acc: 0.7239\n",
      "Epoch 6/40\n",
      "15000/15000 [==============================] - 1s 61us/step - loss: 0.6792 - acc: 0.7361 - val_loss: 0.6776 - val_acc: 0.7520\n",
      "Epoch 7/40\n",
      "15000/15000 [==============================] - 1s 55us/step - loss: 0.6727 - acc: 0.7549 - val_loss: 0.6712 - val_acc: 0.7102\n",
      "Epoch 8/40\n",
      "15000/15000 [==============================] - 1s 50us/step - loss: 0.6638 - acc: 0.7611 - val_loss: 0.6618 - val_acc: 0.7253\n",
      "Epoch 9/40\n",
      "15000/15000 [==============================] - 1s 49us/step - loss: 0.6517 - acc: 0.7708 - val_loss: 0.6485 - val_acc: 0.7589\n",
      "Epoch 10/40\n",
      "15000/15000 [==============================] - 1s 58us/step - loss: 0.6352 - acc: 0.7851 - val_loss: 0.6315 - val_acc: 0.7677\n",
      "Epoch 11/40\n",
      "15000/15000 [==============================] - 1s 55us/step - loss: 0.6148 - acc: 0.7786 - val_loss: 0.6122 - val_acc: 0.7617\n",
      "Epoch 12/40\n",
      "15000/15000 [==============================] - 1s 50us/step - loss: 0.5901 - acc: 0.7931 - val_loss: 0.5867 - val_acc: 0.7843\n",
      "Epoch 13/40\n",
      "15000/15000 [==============================] - 1s 47us/step - loss: 0.5615 - acc: 0.8065 - val_loss: 0.5609 - val_acc: 0.7935\n",
      "Epoch 14/40\n",
      "15000/15000 [==============================] - 1s 51us/step - loss: 0.5317 - acc: 0.8185 - val_loss: 0.5328 - val_acc: 0.8059\n",
      "Epoch 15/40\n",
      "15000/15000 [==============================] - 1s 48us/step - loss: 0.5006 - acc: 0.8294 - val_loss: 0.5044 - val_acc: 0.8166\n",
      "Epoch 16/40\n",
      "15000/15000 [==============================] - 1s 46us/step - loss: 0.4707 - acc: 0.8398 - val_loss: 0.4779 - val_acc: 0.8270\n",
      "Epoch 17/40\n",
      "15000/15000 [==============================] - 1s 45us/step - loss: 0.4410 - acc: 0.8520 - val_loss: 0.4535 - val_acc: 0.8341\n",
      "Epoch 18/40\n",
      "15000/15000 [==============================] - 1s 48us/step - loss: 0.4143 - acc: 0.8621 - val_loss: 0.4307 - val_acc: 0.8435\n",
      "Epoch 19/40\n",
      "15000/15000 [==============================] - 1s 48us/step - loss: 0.3902 - acc: 0.8689 - val_loss: 0.4108 - val_acc: 0.8494\n",
      "Epoch 20/40\n",
      "15000/15000 [==============================] - 1s 52us/step - loss: 0.3685 - acc: 0.8771 - val_loss: 0.3936 - val_acc: 0.8535\n",
      "Epoch 21/40\n",
      "15000/15000 [==============================] - 1s 45us/step - loss: 0.3493 - acc: 0.8822 - val_loss: 0.3787 - val_acc: 0.8573\n",
      "Epoch 22/40\n",
      "15000/15000 [==============================] - 1s 47us/step - loss: 0.3323 - acc: 0.8871 - val_loss: 0.3660 - val_acc: 0.8612\n",
      "Epoch 23/40\n",
      "15000/15000 [==============================] - 1s 47us/step - loss: 0.3176 - acc: 0.8906 - val_loss: 0.3556 - val_acc: 0.8641\n",
      "Epoch 24/40\n",
      "15000/15000 [==============================] - 1s 45us/step - loss: 0.3039 - acc: 0.8943 - val_loss: 0.3459 - val_acc: 0.8679\n",
      "Epoch 25/40\n",
      "15000/15000 [==============================] - 1s 47us/step - loss: 0.2919 - acc: 0.8981 - val_loss: 0.3378 - val_acc: 0.8700\n",
      "Epoch 26/40\n",
      "15000/15000 [==============================] - 1s 46us/step - loss: 0.2809 - acc: 0.9012 - val_loss: 0.3313 - val_acc: 0.8719\n",
      "Epoch 27/40\n",
      "15000/15000 [==============================] - 1s 47us/step - loss: 0.2714 - acc: 0.9034 - val_loss: 0.3250 - val_acc: 0.8730\n",
      "Epoch 28/40\n",
      "15000/15000 [==============================] - 1s 53us/step - loss: 0.2618 - acc: 0.9091 - val_loss: 0.3193 - val_acc: 0.8758\n",
      "Epoch 29/40\n",
      "15000/15000 [==============================] - 1s 47us/step - loss: 0.2535 - acc: 0.9108 - val_loss: 0.3150 - val_acc: 0.8782\n",
      "Epoch 30/40\n",
      "15000/15000 [==============================] - 1s 44us/step - loss: 0.2464 - acc: 0.9122 - val_loss: 0.3107 - val_acc: 0.8780\n",
      "Epoch 31/40\n",
      "15000/15000 [==============================] - 1s 48us/step - loss: 0.2383 - acc: 0.9168 - val_loss: 0.3074 - val_acc: 0.8797\n",
      "Epoch 32/40\n",
      "15000/15000 [==============================] - 1s 47us/step - loss: 0.2321 - acc: 0.9187 - val_loss: 0.3042 - val_acc: 0.8803\n",
      "Epoch 33/40\n",
      "15000/15000 [==============================] - 1s 46us/step - loss: 0.2248 - acc: 0.9209 - val_loss: 0.3013 - val_acc: 0.8820\n",
      "Epoch 34/40\n",
      "15000/15000 [==============================] - 1s 50us/step - loss: 0.2188 - acc: 0.9229 - val_loss: 0.2992 - val_acc: 0.8818\n",
      "Epoch 35/40\n",
      "15000/15000 [==============================] - 1s 45us/step - loss: 0.2135 - acc: 0.9241 - val_loss: 0.2968 - val_acc: 0.8819\n",
      "Epoch 36/40\n",
      "15000/15000 [==============================] - 1s 46us/step - loss: 0.2074 - acc: 0.9270 - val_loss: 0.2950 - val_acc: 0.8836\n",
      "Epoch 37/40\n",
      "15000/15000 [==============================] - 1s 49us/step - loss: 0.2021 - acc: 0.9290 - val_loss: 0.2933 - val_acc: 0.8843\n",
      "Epoch 38/40\n",
      "15000/15000 [==============================] - 1s 50us/step - loss: 0.1972 - acc: 0.9301 - val_loss: 0.2918 - val_acc: 0.8842\n",
      "Epoch 39/40\n",
      "15000/15000 [==============================] - 1s 49us/step - loss: 0.1919 - acc: 0.9339 - val_loss: 0.2905 - val_acc: 0.8850\n",
      "Epoch 40/40\n",
      "15000/15000 [==============================] - 1s 51us/step - loss: 0.1873 - acc: 0.9348 - val_loss: 0.2894 - val_acc: 0.8846\n"
     ]
    }
   ],
   "source": [
    "# Training model\n",
    "history = model.fit(partial_x_train, \n",
    "                    partial_y_train, \n",
    "                    epochs=40, \n",
    "                    batch_size=512, \n",
    "                    validation_data=(x_val, y_val), \n",
    "                    verbose=1)"
   ]
  },
  {
   "cell_type": "code",
   "execution_count": 15,
   "metadata": {},
   "outputs": [
    {
     "name": "stdout",
     "output_type": "stream",
     "text": [
      "25000/25000 [==============================] - 0s 16us/step\n",
      "[0.30354350298881533, 0.87544]\n"
     ]
    }
   ],
   "source": [
    "results = model.evaluate(test_data, test_labels)\n",
    "print(results)"
   ]
  },
  {
   "cell_type": "code",
   "execution_count": 16,
   "metadata": {},
   "outputs": [
    {
     "data": {
      "text/plain": [
       "dict_keys(['val_loss', 'val_acc', 'loss', 'acc'])"
      ]
     },
     "execution_count": 16,
     "metadata": {},
     "output_type": "execute_result"
    }
   ],
   "source": [
    "history_dict = history.history\n",
    "history_dict.keys()"
   ]
  },
  {
   "cell_type": "code",
   "execution_count": 17,
   "metadata": {},
   "outputs": [
    {
     "data": {
      "text/plain": [
       "<Figure size 640x480 with 1 Axes>"
      ]
     },
     "metadata": {},
     "output_type": "display_data"
    }
   ],
   "source": [
    "import matplotlib.pyplot as plt\n",
    "\n",
    "acc = history.history['acc']\n",
    "val_acc = history.history['val_acc']\n",
    "loss = history.history['loss']\n",
    "val_loss = history.history['val_loss']\n",
    "\n",
    "epochs = range(1, len(acc) + 1)\n",
    "\n",
    "# bo is for \"blue dot\"\n",
    "plt.plot(epochs, loss, 'bo', label='Training loss')\n",
    "# b is for \"solid blue line\"\n",
    "plt.plot(epochs, val_loss, 'b', label='Validation loss')\n",
    "plt.title('Training and validation loss')\n",
    "plt.xlabel('Epochs')\n",
    "plt.ylabel('Loss')\n",
    "plt.legend()\n",
    "\n",
    "plt.show()"
   ]
  },
  {
   "cell_type": "code",
   "execution_count": 18,
   "metadata": {},
   "outputs": [
    {
     "data": {
      "image/png": "[encoded data removed]",
      "text/plain": [
       "<Figure size 432x288 with 1 Axes>"
      ]
     },
     "metadata": {
      "needs_background": "light"
     },
     "output_type": "display_data"
    }
   ],
   "source": [
    "plt.clf()   # clear figure\n",
    "acc_values = history_dict['acc']\n",
    "val_acc_values = history_dict['val_acc']\n",
    "\n",
    "plt.plot(epochs, acc, 'bo', label='Training acc')\n",
    "plt.plot(epochs, val_acc, 'b', label='Validation acc')\n",
    "plt.title('Training and validation accuracy')\n",
    "plt.xlabel('Epochs')\n",
    "plt.ylabel('Accuracy')\n",
    "plt.legend()\n",
    "\n",
    "plt.show()"
   ]
  },
  {
   "cell_type": "code",
   "execution_count": null,
   "metadata": {},
   "outputs": [],
   "source": []
  }
 ],
 "metadata": {
  "kernelspec": {
   "display_name": "tensorflow_tutorial",
   "language": "python",
   "name": "tensorflow_tutorial"
  },
  "language_info": {
   "codemirror_mode": {
    "name": "ipython",
    "version": 3
   },
   "file_extension": ".py",
   "mimetype": "text/x-python",
   "name": "python",
   "nbconvert_exporter": "python",
   "pygments_lexer": "ipython3",
   "version": "3.6.6"
  }
 },
 "nbformat": 4,
 "nbformat_minor": 2
}
