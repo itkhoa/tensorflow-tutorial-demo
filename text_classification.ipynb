{
 "cells": [
  {
   "cell_type": "code",
   "execution_count": 1,
   "metadata": {},
   "outputs": [
    {
     "name": "stdout",
     "output_type": "stream",
     "text": [
      "1.10.0\n"
     ]
    }
   ],
   "source": [
    "import tensorflow as tf\n",
    "from tensorflow import keras\n",
    "\n",
    "import numpy as np\n",
    "print(tf.__version__)"
   ]
  },
  {
   "cell_type": "code",
   "execution_count": 2,
   "metadata": {},
   "outputs": [],
   "source": [
    "imdb = keras.datasets.imdb\n",
    "(train_data, train_labels), (test_data, test_labels) = imdb.load_data(num_words=10000)"
   ]
  },
  {
   "cell_type": "code",
   "execution_count": 3,
   "metadata": {},
   "outputs": [
    {
     "name": "stdout",
     "output_type": "stream",
     "text": [
      "Training entries: 25000, label: 25000\n"
     ]
    }
   ],
   "source": [
    "print(\"Training entries: {}, label: {}\".format(len(train_data), len(train_labels)))"
   ]
  },
  {
   "cell_type": "code",
   "execution_count": 4,
   "metadata": {},
   "outputs": [
    {
     "name": "stdout",
     "output_type": "stream",
     "text": [
      "[1, 14, 22, 16, 43, 530, 973, 1622, 1385, 65, 458, 4468, 66, 3941, 4, 173, 36, 256, 5, 25, 100, 43, 838, 112, 50, 670, 2, 9, 35, 480, 284, 5, 150, 4, 172, 112, 167, 2, 336, 385, 39, 4, 172, 4536, 1111, 17, 546, 38, 13, 447, 4, 192, 50, 16, 6, 147, 2025, 19, 14, 22, 4, 1920, 4613, 469, 4, 22, 71, 87, 12, 16, 43, 530, 38, 76, 15, 13, 1247, 4, 22, 17, 515, 17, 12, 16, 626, 18, 2, 5, 62, 386, 12, 8, 316, 8, 106, 5, 4, 2223, 5244, 16, 480, 66, 3785, 33, 4, 130, 12, 16, 38, 619, 5, 25, 124, 51, 36, 135, 48, 25, 1415, 33, 6, 22, 12, 215, 28, 77, 52, 5, 14, 407, 16, 82, 2, 8, 4, 107, 117, 5952, 15, 256, 4, 2, 7, 3766, 5, 723, 36, 71, 43, 530, 476, 26, 400, 317, 46, 7, 4, 2, 1029, 13, 104, 88, 4, 381, 15, 297, 98, 32, 2071, 56, 26, 141, 6, 194, 7486, 18, 4, 226, 22, 21, 134, 476, 26, 480, 5, 144, 30, 5535, 18, 51, 36, 28, 224, 92, 25, 104, 4, 226, 65, 16, 38, 1334, 88, 12, 16, 283, 5, 16, 4472, 113, 103, 32, 15, 16, 5345, 19, 178, 32]\n"
     ]
    }
   ],
   "source": [
    "print(train_data[0])"
   ]
  },
  {
   "cell_type": "code",
   "execution_count": 5,
   "metadata": {},
   "outputs": [
    {
     "data": {
      "text/plain": [
       "(218, 189)"
      ]
     },
     "execution_count": 5,
     "metadata": {},
     "output_type": "execute_result"
    }
   ],
   "source": [
    "len(train_data[0]), len(train_data[1])"
   ]
  },
  {
   "cell_type": "code",
   "execution_count": 6,
   "metadata": {},
   "outputs": [],
   "source": [
    "# A dictionary mapping words to an integer index\n",
    "word_index = imdb.get_word_index()\n",
    "\n",
    "#The first indices are reserved\n",
    "word_index = {k: (v+3) for k,v in word_index.items()}\n",
    "word_index[\"<PAD>\"] = 0\n",
    "word_index[\"<START>\"] = 1\n",
    "word_index[\"<UNK>\"] = 2 #unknown\n",
    "word_index[\"<UNUSED>\"] = 3\n",
    "\n",
    "reverse_word_index = dict([(value, key) for (key, value) in word_index.items()])\n",
    "def decode_review(text):\n",
    "    return ' '.join([reverse_word_index.get(i, '?') for i in text])"
   ]
  },
  {
   "cell_type": "code",
   "execution_count": 7,
   "metadata": {},
   "outputs": [
    {
     "data": {
      "text/plain": [
       "\"<START> this film was just brilliant casting location scenery story direction everyone's really suited the part they played and you could just imagine being there robert <UNK> is an amazing actor and now the same being director <UNK> father came from the same scottish island as myself so i loved the fact there was a real connection with this film the witty remarks throughout the film were great it was just brilliant so much that i bought the film as soon as it was released for <UNK> and would recommend it to everyone to watch and the fly fishing was amazing really cried at the end it was so sad and you know what they say if you cry at a film it must have been good and this definitely was also <UNK> to the two little boy's that played the <UNK> of norman and paul they were just brilliant children are often left out of the <UNK> list i think because the stars that play them all grown up are such a big profile for the whole film but these children are amazing and should be praised for what they have done don't you think the whole story was so lovely because it was true and was someone's life after all that was shared with us all\""
      ]
     },
     "execution_count": 7,
     "metadata": {},
     "output_type": "execute_result"
    }
   ],
   "source": [
    "decode_review(train_data[0])"
   ]
  },
  {
   "cell_type": "code",
   "execution_count": 8,
   "metadata": {},
   "outputs": [],
   "source": [
    "train_data = keras.preprocessing.sequence.pad_sequences(train_data, \n",
    "                                                        value=word_index[\"<PAD>\"],\n",
    "                                                       padding='post',\n",
    "                                                       maxlen=256)\n",
    "test_data = keras.preprocessing.sequence.pad_sequences(test_data,\n",
    "                                                       value=word_index[\"<PAD>\"],\n",
    "                                                       padding='post',\n",
    "                                                       maxlen=256)"
   ]
  },
  {
   "cell_type": "code",
   "execution_count": 9,
   "metadata": {},
   "outputs": [
    {
     "data": {
      "text/plain": [
       "(256, 256)"
      ]
     },
     "execution_count": 9,
     "metadata": {},
     "output_type": "execute_result"
    }
   ],
   "source": [
    "len(train_data[0]), len(train_data[1])"
   ]
  },
  {
   "cell_type": "code",
   "execution_count": 10,
   "metadata": {},
   "outputs": [
    {
     "name": "stdout",
     "output_type": "stream",
     "text": [
      "[   1   14   22   16   43  530  973 1622 1385   65  458 4468   66 3941\n",
      "    4  173   36  256    5   25  100   43  838  112   50  670    2    9\n",
      "   35  480  284    5  150    4  172  112  167    2  336  385   39    4\n",
      "  172 4536 1111   17  546   38   13  447    4  192   50   16    6  147\n",
      " 2025   19   14   22    4 1920 4613  469    4   22   71   87   12   16\n",
      "   43  530   38   76   15   13 1247    4   22   17  515   17   12   16\n",
      "  626   18    2    5   62  386   12    8  316    8  106    5    4 2223\n",
      " 5244   16  480   66 3785   33    4  130   12   16   38  619    5   25\n",
      "  124   51   36  135   48   25 1415   33    6   22   12  215   28   77\n",
      "   52    5   14  407   16   82    2    8    4  107  117 5952   15  256\n",
      "    4    2    7 3766    5  723   36   71   43  530  476   26  400  317\n",
      "   46    7    4    2 1029   13  104   88    4  381   15  297   98   32\n",
      " 2071   56   26  141    6  194 7486   18    4  226   22   21  134  476\n",
      "   26  480    5  144   30 5535   18   51   36   28  224   92   25  104\n",
      "    4  226   65   16   38 1334   88   12   16  283    5   16 4472  113\n",
      "  103   32   15   16 5345   19  178   32    0    0    0    0    0    0\n",
      "    0    0    0    0    0    0    0    0    0    0    0    0    0    0\n",
      "    0    0    0    0    0    0    0    0    0    0    0    0    0    0\n",
      "    0    0    0    0]\n"
     ]
    }
   ],
   "source": [
    "print(train_data[0])"
   ]
  },
  {
   "cell_type": "code",
   "execution_count": 11,
   "metadata": {},
   "outputs": [
    {
     "name": "stdout",
     "output_type": "stream",
     "text": [
      "_________________________________________________________________\n",
      "Layer (type)                 Output Shape              Param #   \n",
      "=================================================================\n",
      "embedding (Embedding)        (None, None, 16)          160000    \n",
      "_________________________________________________________________\n",
      "global_average_pooling1d (Gl (None, 16)                0         \n",
      "_________________________________________________________________\n",
      "dense (Dense)                (None, 16)                272       \n",
      "_________________________________________________________________\n",
      "dense_1 (Dense)              (None, 1)                 17        \n",
      "=================================================================\n",
      "Total params: 160,289\n",
      "Trainable params: 160,289\n",
      "Non-trainable params: 0\n",
      "_________________________________________________________________\n"
     ]
    }
   ],
   "source": [
    "vocab_size = 10000\n",
    "\n",
    "model = keras.Sequential()\n",
    "model.add(keras.layers.Embedding(vocab_size, 16))\n",
    "model.add(keras.layers.GlobalAveragePooling1D())\n",
    "model.add(keras.layers.Dense(16, activation=tf.nn.relu))\n",
    "model.add(keras.layers.Dense(1, activation=tf.nn.sigmoid))\n",
    "\n",
    "model.summary()"
   ]
  },
  {
   "cell_type": "code",
   "execution_count": 12,
   "metadata": {},
   "outputs": [],
   "source": [
    "model.compile(optimizer=tf.train.AdamOptimizer(),\n",
    "              loss='binary_crossentropy',\n",
    "              metrics=['accuracy'])"
   ]
  },
  {
   "cell_type": "code",
   "execution_count": 13,
   "metadata": {},
   "outputs": [],
   "source": [
    "x_val = train_data[:10000]\n",
    "partial_x_train = train_data[10000:]\n",
    "y_val = train_labels[:10000]\n",
    "partial_y_train = train_labels[10000:]"
   ]
  },
  {
   "cell_type": "code",
   "execution_count": 14,
   "metadata": {},
   "outputs": [
    {
     "name": "stdout",
     "output_type": "stream",
     "text": [
      "Train on 15000 samples, validate on 10000 samples\n",
      "Epoch 1/40\n",
      "15000/15000 [==============================] - 2s 162us/step - loss: 0.6956 - acc: 0.5025 - val_loss: 0.6914 - val_acc: 0.5304\n",
      "Epoch 2/40\n",
      "15000/15000 [==============================] - 1s 47us/step - loss: 0.6901 - acc: 0.5674 - val_loss: 0.6885 - val_acc: 0.6011\n",
      "Epoch 3/40\n",
      "15000/15000 [==============================] - 1s 47us/step - loss: 0.6866 - acc: 0.6029 - val_loss: 0.6856 - val_acc: 0.5944\n",
      "Epoch 4/40\n",
      "15000/15000 [==============================] - 1s 48us/step - loss: 0.6826 - acc: 0.6539 - val_loss: 0.6824 - val_acc: 0.5372\n",
      "Epoch 5/40\n",
      "15000/15000 [==============================] - 1s 51us/step - loss: 0.6777 - acc: 0.6814 - val_loss: 0.6761 - val_acc: 0.7156\n",
      "Epoch 6/40\n",
      "15000/15000 [==============================] - 1s 47us/step - loss: 0.6710 - acc: 0.7321 - val_loss: 0.6690 - val_acc: 0.7181\n",
      "Epoch 7/40\n",
      "15000/15000 [==============================] - 1s 47us/step - loss: 0.6620 - acc: 0.7367 - val_loss: 0.6600 - val_acc: 0.7272\n",
      "Epoch 8/40\n",
      "15000/15000 [==============================] - 1s 48us/step - loss: 0.6501 - acc: 0.7487 - val_loss: 0.6480 - val_acc: 0.7319\n",
      "Epoch 9/40\n",
      "15000/15000 [==============================] - 1s 48us/step - loss: 0.6349 - acc: 0.7549 - val_loss: 0.6318 - val_acc: 0.7464\n",
      "Epoch 10/40\n",
      "15000/15000 [==============================] - 1s 48us/step - loss: 0.6153 - acc: 0.7739 - val_loss: 0.6123 - val_acc: 0.7598\n",
      "Epoch 11/40\n",
      "15000/15000 [==============================] - 1s 51us/step - loss: 0.5925 - acc: 0.7707 - val_loss: 0.5916 - val_acc: 0.7608\n",
      "Epoch 12/40\n",
      "15000/15000 [==============================] - 1s 47us/step - loss: 0.5663 - acc: 0.7879 - val_loss: 0.5652 - val_acc: 0.7821\n",
      "Epoch 13/40\n",
      "15000/15000 [==============================] - 1s 49us/step - loss: 0.5372 - acc: 0.8053 - val_loss: 0.5395 - val_acc: 0.7941\n",
      "Epoch 14/40\n",
      "15000/15000 [==============================] - 1s 48us/step - loss: 0.5079 - acc: 0.8170 - val_loss: 0.5129 - val_acc: 0.8043\n",
      "Epoch 15/40\n",
      "15000/15000 [==============================] - 1s 48us/step - loss: 0.4785 - acc: 0.8296 - val_loss: 0.4865 - val_acc: 0.8142\n",
      "Epoch 16/40\n",
      "15000/15000 [==============================] - 1s 50us/step - loss: 0.4507 - acc: 0.8398 - val_loss: 0.4623 - val_acc: 0.8258\n",
      "Epoch 17/40\n",
      "15000/15000 [==============================] - 1s 48us/step - loss: 0.4234 - acc: 0.8538 - val_loss: 0.4401 - val_acc: 0.8349\n",
      "Epoch 18/40\n",
      "15000/15000 [==============================] - 1s 48us/step - loss: 0.3990 - acc: 0.8634 - val_loss: 0.4196 - val_acc: 0.8400\n",
      "Epoch 19/40\n",
      "15000/15000 [==============================] - 1s 48us/step - loss: 0.3770 - acc: 0.8711 - val_loss: 0.4018 - val_acc: 0.8474\n",
      "Epoch 20/40\n",
      "15000/15000 [==============================] - 1s 48us/step - loss: 0.3573 - acc: 0.8769 - val_loss: 0.3864 - val_acc: 0.8530\n",
      "Epoch 21/40\n",
      "15000/15000 [==============================] - 1s 50us/step - loss: 0.3397 - acc: 0.8831 - val_loss: 0.3730 - val_acc: 0.8574\n",
      "Epoch 22/40\n",
      "15000/15000 [==============================] - 1s 48us/step - loss: 0.3241 - acc: 0.8870 - val_loss: 0.3616 - val_acc: 0.8602\n",
      "Epoch 23/40\n",
      "15000/15000 [==============================] - 1s 47us/step - loss: 0.3104 - acc: 0.8909 - val_loss: 0.3522 - val_acc: 0.8621\n",
      "Epoch 24/40\n",
      "15000/15000 [==============================] - 1s 49us/step - loss: 0.2976 - acc: 0.8960 - val_loss: 0.3434 - val_acc: 0.8667\n",
      "Epoch 25/40\n",
      "15000/15000 [==============================] - 1s 49us/step - loss: 0.2863 - acc: 0.8990 - val_loss: 0.3359 - val_acc: 0.8691\n",
      "Epoch 26/40\n",
      "15000/15000 [==============================] - 1s 47us/step - loss: 0.2759 - acc: 0.9013 - val_loss: 0.3298 - val_acc: 0.8713\n",
      "Epoch 27/40\n",
      "15000/15000 [==============================] - 1s 49us/step - loss: 0.2669 - acc: 0.9040 - val_loss: 0.3241 - val_acc: 0.8723\n",
      "Epoch 28/40\n",
      "15000/15000 [==============================] - 1s 48us/step - loss: 0.2577 - acc: 0.9078 - val_loss: 0.3188 - val_acc: 0.8746\n",
      "Epoch 29/40\n",
      "15000/15000 [==============================] - 1s 49us/step - loss: 0.2497 - acc: 0.9109 - val_loss: 0.3149 - val_acc: 0.8749\n",
      "Epoch 30/40\n",
      "15000/15000 [==============================] - 1s 49us/step - loss: 0.2429 - acc: 0.9112 - val_loss: 0.3108 - val_acc: 0.8761\n",
      "Epoch 31/40\n",
      "15000/15000 [==============================] - 1s 49us/step - loss: 0.2348 - acc: 0.9162 - val_loss: 0.3077 - val_acc: 0.8772\n",
      "Epoch 32/40\n",
      "15000/15000 [==============================] - 1s 48us/step - loss: 0.2288 - acc: 0.9188 - val_loss: 0.3047 - val_acc: 0.8782\n",
      "Epoch 33/40\n",
      "15000/15000 [==============================] - 1s 48us/step - loss: 0.2217 - acc: 0.9206 - val_loss: 0.3021 - val_acc: 0.8797\n",
      "Epoch 34/40\n",
      "15000/15000 [==============================] - 1s 50us/step - loss: 0.2158 - acc: 0.9235 - val_loss: 0.3000 - val_acc: 0.8801\n",
      "Epoch 35/40\n",
      "15000/15000 [==============================] - 1s 47us/step - loss: 0.2106 - acc: 0.9239 - val_loss: 0.2978 - val_acc: 0.8808\n",
      "Epoch 36/40\n",
      "15000/15000 [==============================] - 1s 48us/step - loss: 0.2045 - acc: 0.9277 - val_loss: 0.2963 - val_acc: 0.8807\n",
      "Epoch 37/40\n",
      "15000/15000 [==============================] - 1s 49us/step - loss: 0.1993 - acc: 0.9301 - val_loss: 0.2947 - val_acc: 0.8817\n",
      "Epoch 38/40\n",
      "15000/15000 [==============================] - 1s 50us/step - loss: 0.1944 - acc: 0.9309 - val_loss: 0.2931 - val_acc: 0.8827\n",
      "Epoch 39/40\n",
      "15000/15000 [==============================] - 1s 47us/step - loss: 0.1892 - acc: 0.9343 - val_loss: 0.2920 - val_acc: 0.8834\n",
      "Epoch 40/40\n",
      "15000/15000 [==============================] - 1s 49us/step - loss: 0.1845 - acc: 0.9362 - val_loss: 0.2909 - val_acc: 0.8835\n"
     ]
    }
   ],
   "source": [
    "# Training model\n",
    "history = model.fit(partial_x_train, \n",
    "                    partial_y_train, \n",
    "                    epochs=40, \n",
    "                    batch_size=512, \n",
    "                    validation_data=(x_val, y_val), \n",
    "                    verbose=1)"
   ]
  },
  {
   "cell_type": "code",
   "execution_count": 15,
   "metadata": {},
   "outputs": [
    {
     "name": "stdout",
     "output_type": "stream",
     "text": [
      "25000/25000 [==============================] - 0s 18us/step\n",
      "[0.3050572428417206, 0.87448]\n"
     ]
    }
   ],
   "source": [
    "results = model.evaluate(test_data, test_labels)\n",
    "print(results)"
   ]
  },
  {
   "cell_type": "code",
   "execution_count": 16,
   "metadata": {},
   "outputs": [
    {
     "data": {
      "text/plain": [
       "dict_keys(['val_loss', 'val_acc', 'loss', 'acc'])"
      ]
     },
     "execution_count": 16,
     "metadata": {},
     "output_type": "execute_result"
    }
   ],
   "source": [
    "history_dict = history.history\n",
    "history_dict.keys()"
   ]
  },
  {
   "cell_type": "code",
   "execution_count": 17,
   "metadata": {},
   "outputs": [
    {
     "data": {
      "text/plain": [
       "<Figure size 640x480 with 1 Axes>"
      ]
     },
     "metadata": {},
     "output_type": "display_data"
    }
   ],
   "source": [
    "import matplotlib.pyplot as plt\n",
    "\n",
    "acc = history.history['acc']\n",
    "val_acc = history.history['val_acc']\n",
    "loss = history.history['loss']\n",
    "val_loss = history.history['val_loss']\n",
    "\n",
    "epochs = range(1, len(acc) + 1)\n",
    "\n",
    "# bo is for \"blue dot\"\n",
    "plt.plot(epochs, loss, 'bo', label='Training loss')\n",
    "# b is for \"solid blue line\"\n",
    "plt.plot(epochs, val_loss, 'b', label='Validation loss')\n",
    "plt.title('Training and validation loss')\n",
    "plt.xlabel('Epochs')\n",
    "plt.ylabel('Loss')\n",
    "plt.legend()\n",
    "\n",
    "plt.show()"
   ]
  },
  {
   "cell_type": "code",
   "execution_count": 18,
   "metadata": {},
   "outputs": [
    {
     "data": {
      "image/png": "[encoded data removed]",
      "text/plain": [
       "<Figure size 432x288 with 1 Axes>"
      ]
     },
     "metadata": {
      "needs_background": "light"
     },
     "output_type": "display_data"
    }
   ],
   "source": [
    "plt.clf()   # clear figure\n",
    "acc_values = history_dict['acc']\n",
    "val_acc_values = history_dict['val_acc']\n",
    "\n",
    "plt.plot(epochs, acc, 'bo', label='Training acc')\n",
    "plt.plot(epochs, val_acc, 'b', label='Validation acc')\n",
    "plt.title('Training and validation accuracy')\n",
    "plt.xlabel('Epochs')\n",
    "plt.ylabel('Accuracy')\n",
    "plt.legend()\n",
    "\n",
    "plt.show()"
   ]
  },
  {
   "cell_type": "code",
   "execution_count": null,
   "metadata": {},
   "outputs": [],
   "source": []
  }
 ],
 "metadata": {
  "kernelspec": {
   "display_name": "tensorflow_tutorial",
   "language": "python",
   "name": "tensorflow_tutorial"
  },
  "language_info": {
   "codemirror_mode": {
    "name": "ipython",
    "version": 3
   },
   "file_extension": ".py",
   "mimetype": "text/x-python",
   "name": "python",
   "nbconvert_exporter": "python",
   "pygments_lexer": "ipython3",
   "version": "3.6.6"
  }
 },
 "nbformat": 4,
 "nbformat_minor": 2
}
